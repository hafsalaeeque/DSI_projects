{
 "cells": [
  {
   "cell_type": "markdown",
   "metadata": {},
   "source": [
    "## Web Scraper for mycareersfuture.sg"
   ]
  },
  {
   "cell_type": "code",
   "execution_count": 1,
   "metadata": {},
   "outputs": [],
   "source": [
    "import os\n",
    "from selenium import webdriver\n",
    "import requests\n",
    "from bs4 import BeautifulSoup\n",
    "from time import sleep\n",
    "import pandas as pd\n",
    "import numpy as np\n",
    "import sys"
   ]
  },
  {
   "cell_type": "code",
   "execution_count": 2,
   "metadata": {},
   "outputs": [],
   "source": [
    "chromedriver = \"./Chromedriver/chromedriver\"\n",
    "os.environ[\"webdriver.chrome.driver\"] = chromedriver"
   ]
  },
  {
   "cell_type": "code",
   "execution_count": 3,
   "metadata": {},
   "outputs": [
    {
     "name": "stdout",
     "output_type": "stream",
     "text": [
      "---Scraping page # 3\n",
      "---Scraping page # 4\n",
      "---Scraping page # 5\n"
     ]
    }
   ],
   "source": [
    "\n",
    "salary = []\n",
    "title = []\n",
    "company = []\n",
    "JD_links = []\n",
    "\n",
    "# IMPORTANT: Manually change the search term and page range here ....\n",
    "for page_no in range(3, 6): # Set range-----> range 4 = page 3\n",
    "    try:\n",
    "        print \"---Scraping page # \"+str(page_no)\n",
    "        url = \"https://www.mycareersfuture.sg/search?search=web%20developer&page=\"+str(page_no) # Set search term\n",
    "        driver = webdriver.Chrome(executable_path=\"./chromedriver/chromedriver\")\n",
    "        driver.get(url)\n",
    "        sleep(4)\n",
    "\n",
    "        html = driver.page_source\n",
    "        soup = BeautifulSoup(html, 'lxml')\n",
    "\n",
    "        for row in soup.find_all(\"span\", {\"class\":\"salary_range black-80 mv0 fw6 f3-5 lh-solid db dib\"}):\n",
    "            salary.append(row.get_text())\n",
    "\n",
    "        for item in soup.find_all(\"h1\", {\"name\":\"job_title\"}):\n",
    "            title.append(item.get_text())\n",
    "\n",
    "        for item in soup.find_all(\"p\", {\"name\":\"company\"}):\n",
    "            company.append(item.get_text())\n",
    "\n",
    "        for item in soup.find_all(\"a\", {\"class\": \"bg-white mb3 w-100 dib v-top pa3 no-underline flex-ns flex-wrap JobCard__card___22xP3\"}):\n",
    "            JD_links.append(\"https://www.mycareersfuture.sg\"+item.get('href'))\n",
    "\n",
    "        driver.close()\n",
    "        \n",
    "    except:\n",
    "        pass"
   ]
  },
  {
   "cell_type": "code",
   "execution_count": 4,
   "metadata": {},
   "outputs": [],
   "source": [
    "reload(sys)\n",
    "sys.setdefaultencoding('utf8')"
   ]
  },
  {
   "cell_type": "code",
   "execution_count": 5,
   "metadata": {},
   "outputs": [],
   "source": [
    "jobs_df = pd.DataFrame(pd.Series(JD_links).values)\n",
    "jobs_df['title'] = pd.Series(title).values\n",
    "jobs_df['company'] = pd.Series(company).values\n",
    "jobs_df['salary'] = pd.Series(salary).values\n",
    "path = './Jobs_csv/jobs_'+str(np.random.randint(1000))+'.csv'\n",
    "jobs_df.to_csv(path_or_buf=path)"
   ]
  },
  {
   "cell_type": "code",
   "execution_count": 6,
   "metadata": {},
   "outputs": [],
   "source": [
    "# jobs_df"
   ]
  },
  {
   "cell_type": "code",
   "execution_count": 7,
   "metadata": {},
   "outputs": [],
   "source": [
    "# print JD_links, len(JD_links)"
   ]
  },
  {
   "cell_type": "markdown",
   "metadata": {},
   "source": [
    "## Scraping roles and responsibilities"
   ]
  },
  {
   "cell_type": "code",
   "execution_count": 8,
   "metadata": {
    "scrolled": true
   },
   "outputs": [],
   "source": [
    "responsibilities = {}\n",
    "requirements = {}"
   ]
  },
  {
   "cell_type": "code",
   "execution_count": 10,
   "metadata": {},
   "outputs": [],
   "source": [
    "#test\n",
    "for i, link in enumerate(JD_links):\n",
    "    driver = webdriver.Chrome(executable_path=\"./chromedriver/chromedriver\")\n",
    "    driver.get(link)\n",
    "    print link\n",
    "    sleep(4)\n",
    "    html_JD = driver.page_source\n",
    "    JD = BeautifulSoup(html_JD, 'lxml')\n",
    "    JD_text = []\n",
    "\n",
    "    for item in JD.find_all(\"div\", {\"class\": \"f5 fw4 black-70 lh-copy break-word\"}):\n",
    "        JD_text.append(item.get_text())\n",
    "\n",
    "    print \"---Scraping page # \"+str(i)\n",
    "    if len(JD_text) == 1:\n",
    "        responsibilities[link] = JD_text[0]\n",
    "        requirements[link] = JD_text[0]\n",
    "    else:\n",
    "        responsibilities[link] = JD_text[0]\n",
    "        requirements[link] = JD_text[1]\n",
    "    driver.close()"
   ]
  },
  {
   "cell_type": "code",
   "execution_count": 11,
   "metadata": {},
   "outputs": [],
   "source": [
    "#trial\n",
    "# driver_ = webdriver.Chrome(executable_path=\"./chromedriver/chromedriver\")\n",
    "# driver_.get('https://www.mycareersfuture.sg/job/02d2932ca977de939e14bab474a69a40')\n",
    "# # print link\n",
    "# sleep(6)\n",
    "# html_JD_ = driver_.page_source\n",
    "# JD = BeautifulSoup(html_JD_, 'lxml')\n",
    "# JD_text = []\n",
    "\n",
    "# JD.find_all(\"div\", {\"class\": \"f5 fw4 black-70 lh-copy break-word\"})\n",
    "# for item in JD.find_all(\"div\", {\"class\": \"f5 fw4 black-70 lh-copy break-word\"}):\n",
    "#     print item.get_text()\n",
    "#     JD_text.append(item.get_text())\n",
    "\n",
    "# print \"---Scraping page # \"+str(i)\n",
    "# responsibilities[link] = JD_text[0]\n",
    "# requirements[link] = JD_text[1]\n",
    "   \n",
    "# driver.close()                                                                                            Test"
   ]
  },
  {
   "cell_type": "code",
   "execution_count": 12,
   "metadata": {},
   "outputs": [],
   "source": [
    "# counter = 0\n",
    "# for item in JD.find_all(\"div\", {\"class\": \"f5 fw4 black-70 lh-copy break-word\"}):\n",
    "#     counter += 1\n",
    "#     print counter\n",
    "#     print item.text\n",
    "#     text = item.text\n",
    "#     print text.split('Requirements')                                                                           test"
   ]
  },
  {
   "cell_type": "code",
   "execution_count": 13,
   "metadata": {},
   "outputs": [
    {
     "data": {
      "text/html": [
       "<div>\n",
       "<style scoped>\n",
       "    .dataframe tbody tr th:only-of-type {\n",
       "        vertical-align: middle;\n",
       "    }\n",
       "\n",
       "    .dataframe tbody tr th {\n",
       "        vertical-align: top;\n",
       "    }\n",
       "\n",
       "    .dataframe thead th {\n",
       "        text-align: right;\n",
       "    }\n",
       "</style>\n",
       "<table border=\"1\" class=\"dataframe\">\n",
       "  <thead>\n",
       "    <tr style=\"text-align: right;\">\n",
       "      <th></th>\n",
       "      <th>0</th>\n",
       "      <th>responsibilities</th>\n",
       "      <th>requirements</th>\n",
       "    </tr>\n",
       "  </thead>\n",
       "  <tbody>\n",
       "    <tr>\n",
       "      <th>0</th>\n",
       "      <td>https://www.mycareersfuture.sg/job/fa2f6e529d1...</td>\n",
       "      <td>Experience with A/B and multivariate experime...</td>\n",
       "      <td>Develop, Execute and Manage ongoing SEO Campa...</td>\n",
       "    </tr>\n",
       "    <tr>\n",
       "      <th>1</th>\n",
       "      <td>https://www.mycareersfuture.sg/job/6e45a9e328b...</td>\n",
       "      <td>Join us in the digital health revolution and t...</td>\n",
       "      <td>Qualifications  We need you if you have the fo...</td>\n",
       "    </tr>\n",
       "    <tr>\n",
       "      <th>2</th>\n",
       "      <td>https://www.mycareersfuture.sg/job/81b49677fc1...</td>\n",
       "      <td>esponsibilities:  • Responsible for User Exper...</td>\n",
       "      <td>Strong UI Designs for interactive media, mobi...</td>\n",
       "    </tr>\n",
       "    <tr>\n",
       "      <th>3</th>\n",
       "      <td>https://www.mycareersfuture.sg/job/2a193ac2597...</td>\n",
       "      <td>As a .Net Developer, you will be part of an ag...</td>\n",
       "      <td>Preferred Exposure/Knowledge to:  In-depth kno...</td>\n",
       "    </tr>\n",
       "    <tr>\n",
       "      <th>4</th>\n",
       "      <td>https://www.mycareersfuture.sg/job/6c4ff323001...</td>\n",
       "      <td>This is a good IT position for someone with pr...</td>\n",
       "      <td>ASP.NET, MS SQL Server, C# Basic programming ...</td>\n",
       "    </tr>\n",
       "  </tbody>\n",
       "</table>\n",
       "</div>"
      ],
      "text/plain": [
       "                                                   0  \\\n",
       "0  https://www.mycareersfuture.sg/job/fa2f6e529d1...   \n",
       "1  https://www.mycareersfuture.sg/job/6e45a9e328b...   \n",
       "2  https://www.mycareersfuture.sg/job/81b49677fc1...   \n",
       "3  https://www.mycareersfuture.sg/job/2a193ac2597...   \n",
       "4  https://www.mycareersfuture.sg/job/6c4ff323001...   \n",
       "\n",
       "                                    responsibilities  \\\n",
       "0   Experience with A/B and multivariate experime...   \n",
       "1  Join us in the digital health revolution and t...   \n",
       "2  esponsibilities:Â  â€¢ Responsible for User Exper...   \n",
       "3  As a .Net Developer, you will be part of an ag...   \n",
       "4  This is a good IT position for someone with pr...   \n",
       "\n",
       "                                        requirements  \n",
       "0   Develop, Execute and Manage ongoing SEO Campa...  \n",
       "1  QualificationsÂ  We need you if you have the fo...  \n",
       "2   Strong UI Designs for interactive media, mobi...  \n",
       "3  Preferred Exposure/Knowledge to:  In-depth kno...  \n",
       "4   ASP.NET, MS SQL Server, C# Basic programming ...  "
      ]
     },
     "execution_count": 13,
     "metadata": {},
     "output_type": "execute_result"
    }
   ],
   "source": [
    "df_rr = pd.DataFrame(pd.Series(JD_links).values)\n",
    "df_rr['responsibilities'] = pd.Series(responsibilities).values\n",
    "df_rr['requirements'] = pd.Series(requirements).values\n",
    "df_rr.head()"
   ]
  },
  {
   "cell_type": "code",
   "execution_count": 14,
   "metadata": {},
   "outputs": [],
   "source": [
    "path = './JDs_csv/JD_'+str(np.random.randint(1000))+'.csv'\n",
    "df_rr.to_csv(path_or_buf=path)"
   ]
  },
  {
   "cell_type": "code",
   "execution_count": null,
   "metadata": {
    "scrolled": true
   },
   "outputs": [],
   "source": [
    "# print responsibilities, len(responsibilities)"
   ]
  },
  {
   "cell_type": "code",
   "execution_count": null,
   "metadata": {},
   "outputs": [],
   "source": [
    "# print requirements, len(requirements)"
   ]
  }
 ],
 "metadata": {
  "kernelspec": {
   "display_name": "Python 2",
   "language": "python",
   "name": "python2"
  },
  "language_info": {
   "codemirror_mode": {
    "name": "ipython",
    "version": 2
   },
   "file_extension": ".py",
   "mimetype": "text/x-python",
   "name": "python",
   "nbconvert_exporter": "python",
   "pygments_lexer": "ipython2",
   "version": "2.7.14"
  }
 },
 "nbformat": 4,
 "nbformat_minor": 2
}
